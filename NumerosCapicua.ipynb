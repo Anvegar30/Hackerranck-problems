{
 "cells": [
  {
   "cell_type": "markdown",
   "metadata": {},
   "source": [
    "# This problem checks the palindrome years contained in a given range of years"
   ]
  },
  {
   "cell_type": "code",
   "execution_count": 26,
   "metadata": {},
   "outputs": [
    {
     "name": "stdout",
     "output_type": "stream",
     "text": [
      "Between 1950 and 2050 there are the following palindrome years: [1991, 2002]\n"
     ]
    }
   ],
   "source": [
    "\n",
    "MyArray = []\n",
    "\n",
    "start = 1950\n",
    "finish = 2050\n",
    "\n",
    "for x in range(start, finish):\n",
    "    MyIteration = str(x)\n",
    "    if MyIteration[3] == MyIteration[0] and MyIteration[1] == MyIteration[2]:\n",
    "        MyNumber = x\n",
    "        MyArray.append(MyNumber)\n",
    "\n",
    "print('Between', start, 'and', finish, 'there are the following palindrome years:', MyArray)\n",
    "    \n"
   ]
  },
  {
   "cell_type": "code",
   "execution_count": null,
   "metadata": {},
   "outputs": [],
   "source": []
  }
 ],
 "metadata": {
  "kernelspec": {
   "display_name": "Python 3",
   "language": "python",
   "name": "python3"
  },
  "language_info": {
   "codemirror_mode": {
    "name": "ipython",
    "version": 3
   },
   "file_extension": ".py",
   "mimetype": "text/x-python",
   "name": "python",
   "nbconvert_exporter": "python",
   "pygments_lexer": "ipython3",
   "version": "3.7.3"
  }
 },
 "nbformat": 4,
 "nbformat_minor": 2
}
