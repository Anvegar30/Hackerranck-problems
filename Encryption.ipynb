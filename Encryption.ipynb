{
 "cells": [
  {
   "cell_type": "markdown",
   "metadata": {},
   "source": [
    "# Solution to the encryption problem\n",
    "\n",
    "https://www.hackerrank.com/challenges/encryption/problem"
   ]
  },
  {
   "cell_type": "code",
   "execution_count": 1,
   "metadata": {},
   "outputs": [],
   "source": [
    "import math"
   ]
  },
  {
   "cell_type": "code",
   "execution_count": 2,
   "metadata": {},
   "outputs": [],
   "source": [
    "def encryption(s):\n",
    "\n",
    "    s.replace(\" \",\"\")\n",
    "    L = len(s)\n",
    "    key = math.sqrt(L)\n",
    "\n",
    "    k_col = math.ceil(key)\n",
    "    k_row = math.floor(key)\n",
    "\n",
    "\n",
    "    if k_col*k_row >= L:\n",
    "        pass\n",
    "    else:\n",
    "        k_col = k_col\n",
    "\n",
    "    matrix = []\n",
    "\n",
    "    i = 0\n",
    "\n",
    "    while i < len(s):\n",
    "\n",
    "        if i + k_col > len(s):\n",
    "            inclusion = s[i:len(s)]\n",
    "        else:\n",
    "            inclusion = s[i:i+k_col]\n",
    "\n",
    "        matrix.append(inclusion)\n",
    "\n",
    "        i += k_col\n",
    "\n",
    "    new_matrix = []\n",
    "    \n",
    "    for i in range(k_col):\n",
    "        \n",
    "        element = \"\"\n",
    "        for j in range(len(matrix)):\n",
    "            \n",
    "            \n",
    "            if i >= len(matrix[j]):\n",
    "                \n",
    "                element = element + \"\"\n",
    "                break\n",
    "                \n",
    "            else:\n",
    "\n",
    "                element = element + matrix[j][i]\n",
    "        \n",
    "        new_matrix.append(element)\n",
    "\n",
    "    final = \"\"\n",
    "    for i in new_matrix:\n",
    "        final = final + i + \" \"\n",
    "\n",
    "    return final"
   ]
  },
  {
   "cell_type": "code",
   "execution_count": 3,
   "metadata": {},
   "outputs": [],
   "source": [
    "s = 'bgwdyygtmwhtwhusfedckrgybozfjaukgsngqvzftiypqukxypbkghjiwkphkjtsdizueaz'"
   ]
  },
  {
   "cell_type": "code",
   "execution_count": 4,
   "metadata": {},
   "outputs": [
    {
     "data": {
      "text/plain": [
       "'bwdfqujs ghcjvkid wtkazxwi dwrufykz yhgktppu yuygibhe gsbsykka tfonpgjz mezgqht '"
      ]
     },
     "execution_count": 4,
     "metadata": {},
     "output_type": "execute_result"
    }
   ],
   "source": [
    "encryption(s)"
   ]
  }
 ],
 "metadata": {
  "kernelspec": {
   "display_name": "Python 3",
   "language": "python",
   "name": "python3"
  },
  "language_info": {
   "codemirror_mode": {
    "name": "ipython",
    "version": 3
   },
   "file_extension": ".py",
   "mimetype": "text/x-python",
   "name": "python",
   "nbconvert_exporter": "python",
   "pygments_lexer": "ipython3",
   "version": "3.7.3"
  }
 },
 "nbformat": 4,
 "nbformat_minor": 2
}
